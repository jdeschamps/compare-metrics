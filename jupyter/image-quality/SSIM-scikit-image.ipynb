{
 "cells": [
  {
   "cell_type": "code",
   "execution_count": 23,
   "metadata": {},
   "outputs": [],
   "source": [
    "import matplotlib.pyplot as plt\n",
    "import numpy as np\n",
    "from skimage.metrics import structural_similarity\n",
    "\n",
    "def write_csv(name, m):\n",
    "    sourceFile = open(name, 'w')\n",
    "    strm = str(m)\n",
    "    print(strm[1:-1], file = sourceFile)\n",
    "    sourceFile.close()\n",
    "    \n",
    "def show(ims):\n",
    "    plt.figure(figsize=(5*len(ims),5))\n",
    "    \n",
    "    for i in range(len(ims)):\n",
    "        plt.subplot(1,len(ims),i+1)\n",
    "        plt.imshow(ims[i])\n",
    "        \n",
    "def ssim(im1, im2, data_range=255):\n",
    "    return structural_similarity(im1, im2, gaussian_weights=True, sigma=1.5, use_sample_covariance=False, data_range=data_range)\n",
    "  "
   ]
  },
  {
   "cell_type": "code",
   "execution_count": 24,
   "metadata": {},
   "outputs": [
    {
     "name": "stdout",
     "output_type": "stream",
     "text": [
      "(100, 64, 64)\n"
     ]
    }
   ],
   "source": [
    "gt = np.load('data/gt.npy').astype(int)\n",
    "pred = np.load('data/pred.npy').astype(int)\n",
    "print(gt.shape)"
   ]
  },
  {
   "cell_type": "code",
   "execution_count": 25,
   "metadata": {},
   "outputs": [
    {
     "name": "stdout",
     "output_type": "stream",
     "text": [
      "0.39508186247017696\n"
     ]
    },
    {
     "data": {
      "image/png": "[encoded data removed]",
      "text/plain": [
       "<Figure size 720x360 with 2 Axes>"
      ]
     },
     "metadata": {
      "needs_background": "light"
     },
     "output_type": "display_data"
    }
   ],
   "source": [
    "n = 18\n",
    "print(ssim(gt[n,:,:], pred[n,:,:]))\n",
    "show([gt[n,:,:], pred[n,:,:]])"
   ]
  },
  {
   "cell_type": "code",
   "execution_count": 26,
   "metadata": {},
   "outputs": [
    {
     "name": "stdout",
     "output_type": "stream",
     "text": [
      "[0.659702066136305, 0.23089819448998147, 0.3429739744089346, 0.7784842470920817, 0.7403292040379931, 0.38939124968541816, 0.44373917558371867, 0.7163733564654953, 0.634717636425133, 0.266045844351291, 0.2917695750656713, 0.27976797152076244, 0.34236844304661657, 0.5996328329823875, 0.2120394788668411, 0.3705793046254481, 0.5313046831594909, 0.540596394691194, 0.39508186247017696, 0.5173128866092221, 0.3803837548341339, 0.6209244099968357, 0.5405677784702972, 0.3049941586010834, 0.29742337026490173, 0.1310596012731726, 0.543655471913738, 0.5427248143887671, 0.3306918855848134, 0.7121139379557905, 0.7222660729277381, 0.2839121257020358, 0.3193077745278084, 0.1925174077242355, 0.45945521638733783, 0.5904992213057477, 0.47266358883386905, 0.5873094952167104, 0.7711310923733481, 0.12252095212801364, 0.29677216091559583, 0.334906543075205, 0.29719456540210837, 0.54267377092024, 0.7045367235751367, 0.2846505399322784, 0.39604038428968247, 0.30217844237612673, 0.36689551436946616, 0.46618239965139563, 0.5589338039398684, 0.5925998339213574, 0.1727342688331379, 0.38852538266649356, 0.33240982544309916, 0.3349624108293604, 0.32919669769521337, 0.44875899819813786, 0.4907708102440239, 0.40806167958210504, 0.23085322588589383, 0.23952432797797607, 0.30893522587693567, 0.3505281593214368, 0.5663884949417258, 0.23572746719354848, 0.26445432012410186, 0.4543068297823131, 0.594429830081897, 0.6865201027783364, 0.32553379811904204, 0.3243105082764789, 0.3007473915009122, 0.4844950644514732, 0.42553494145993725, 0.1437184043363294, 0.631766866714584, 0.7721390453090496, 0.4508231380483083, 0.5173461639571114, 0.2938411726576313, 0.6224243500083567, 0.2710788871956909, 0.341250838770245, 0.4641415921332863, 0.5515793957052884, 0.8117959289731316, 0.18758637983669718, 0.47580970305535003, 0.5092225168541663, 0.36701575779549744, 0.7705103468724944, 0.4219372980891424, 0.6017314030159807, 0.17858150116009924, 0.6803172982728467, 0.188171986749819, 0.16378227005157864, 0.5739098065428612, 0.43128377362942194]\n"
     ]
    }
   ],
   "source": [
    "b = gt.shape[0]\n",
    "m = []\n",
    "for i in range(b):\n",
    "    m.append( ssim( gt[i,:,:], pred[i,:,:] ) )\n",
    "    \n",
    "print(m)"
   ]
  },
  {
   "cell_type": "code",
   "execution_count": 27,
   "metadata": {},
   "outputs": [],
   "source": [
    "write_csv('data/ssim.txt', m)"
   ]
  },
  {
   "cell_type": "code",
   "execution_count": 28,
   "metadata": {},
   "outputs": [
    {
     "data": {
      "text/plain": [
       "0.7433402662472663"
      ]
     },
     "execution_count": 28,
     "metadata": {},
     "output_type": "execute_result"
    }
   ],
   "source": [
    "# Toy example\n",
    "dims = (32, 32)\n",
    "\n",
    "r = np.zeros(dims)\n",
    "p = np.zeros(dims)\n",
    "\n",
    "for i in range(dims[0]):\n",
    "    for j in range(dims[1]):\n",
    "        r[i,j] = i\n",
    "        p[i,j] = i+j\n",
    "\n",
    "\n",
    "ssim(r,p)"
   ]
  },
  {
   "cell_type": "code",
   "execution_count": 30,
   "metadata": {},
   "outputs": [
    {
     "data": {
      "text/plain": [
       "0.7433402662472663"
      ]
     },
     "execution_count": 30,
     "metadata": {},
     "output_type": "execute_result"
    }
   ],
   "source": [
    "# Toy example\n",
    "dims = (32, 32)\n",
    "\n",
    "r = np.zeros(dims)\n",
    "p = np.zeros(dims)\n",
    "\n",
    "for i in range(dims[0]):\n",
    "    for j in range(dims[1]):\n",
    "        r[i,j] = i\n",
    "        p[i,j] = i+j\n",
    "\n",
    "\n",
    "ssim(r,p)"
   ]
  },
  {
   "cell_type": "code",
   "execution_count": null,
   "metadata": {},
   "outputs": [],
   "source": []
  }
 ],
 "metadata": {
  "kernelspec": {
   "display_name": "Python 3",
   "language": "python",
   "name": "python3"
  },
  "language_info": {
   "codemirror_mode": {
    "name": "ipython",
    "version": 3
   },
   "file_extension": ".py",
   "mimetype": "text/x-python",
   "name": "python",
   "nbconvert_exporter": "python",
   "pygments_lexer": "ipython3",
   "version": "3.8.5"
  }
 },
 "nbformat": 4,
 "nbformat_minor": 4
}
