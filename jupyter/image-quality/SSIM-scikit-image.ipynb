{
 "cells": [
  {
   "cell_type": "code",
   "execution_count": 5,
   "metadata": {},
   "outputs": [],
   "source": [
    "import matplotlib.pyplot as plt\n",
    "import numpy as np\n",
    "from skimage.metrics import structural_similarity, peak_signal_noise_ratio\n",
    "\n",
    "def write_csv(name, m):\n",
    "    sourceFile = open(name, 'w')\n",
    "    strm = str(m)\n",
    "    print(strm[1:-1], file = sourceFile)\n",
    "    sourceFile.close()\n",
    "    \n",
    "def show(ims):\n",
    "    plt.figure(figsize=(5*len(ims),5))\n",
    "    \n",
    "    for i in range(len(ims)):\n",
    "        plt.subplot(1,len(ims),i+1)\n",
    "        plt.imshow(ims[i])\n",
    "        \n",
    "def ssim(im1, im2, data_range=255):\n",
    "    return structural_similarity(im1, im2, gaussian_weights=True, sigma=1.5, use_sample_covariance=False, data_range=data_range)\n",
    "  \n",
    "def psnr(im1, im2, data_range=255):\n",
    "    return peak_signal_noise_ratio(im1, im2, data_range=255)"
   ]
  },
  {
   "cell_type": "code",
   "execution_count": 2,
   "metadata": {},
   "outputs": [
    {
     "name": "stdout",
     "output_type": "stream",
     "text": [
      "(100, 64, 64)\n"
     ]
    }
   ],
   "source": [
    "gt = np.load('data/gt.npy').astype(int)\n",
    "pred = np.load('data/pred.npy').astype(int)\n",
    "print(gt.shape)"
   ]
  },
  {
   "cell_type": "code",
   "execution_count": 3,
   "metadata": {},
   "outputs": [
    {
     "name": "stdout",
     "output_type": "stream",
     "text": [
      "0.39508186247017696\n",
      "22.14490474046409\n"
     ]
    },
    {
     "data": {
      "image/png": "[encoded data removed]",
      "text/plain": [
       "<Figure size 720x360 with 2 Axes>"
      ]
     },
     "metadata": {
      "needs_background": "light"
     },
     "output_type": "display_data"
    }
   ],
   "source": [
    "n = 18\n",
    "print(ssim(gt[n,:,:], pred[n,:,:]))\n",
    "print(peak_signal_noise_ratio(gt[n,:,:], pred[n,:,:], data_range=255))\n",
    "show([gt[n,:,:], pred[n,:,:]])"
   ]
  },
  {
   "cell_type": "code",
   "execution_count": 4,
   "metadata": {},
   "outputs": [
    {
     "name": "stdout",
     "output_type": "stream",
     "text": [
      "[355.4146329737516, 351.53232375835955, 350.27263860445635, 358.0422433139396, 352.9157937412526, 352.4723183033331, 350.8476685107132, 354.68845657947725, 355.42853969293344, 350.36776128531505, 350.2861191114896, 348.2046024837982, 349.84668893743935, 353.0518064580833, 351.0163175537519, 351.1789677838775, 353.3650528801025, 352.43163692535944, 353.3118956684013, 350.796976769702, 350.115588699241, 354.5997037699942, 353.9422142343321, 351.60068661230974, 352.4463735623419, 347.7557405766666, 352.15727955455964, 352.9896934748442, 349.91523048315065, 355.0310540685492, 354.94737964612887, 351.54712910992765, 350.3617060058515, 349.5155768662996, 352.85265857009324, 352.95664456550605, 352.8079729619583, 352.82000011316165, 356.095514974449, 348.2479482495563, 350.3022343638102, 349.97646081061595, 349.59000503194454, 352.2316271260487, 353.66148620986326, 352.2245030036459, 352.6665781858531, 349.98875173232756, 353.44853880166636, 350.7656948689199, 354.17640719627934, 352.0147006732908, 349.2492637124281, 353.0403581476962, 352.25797023097766, 351.0231094760845, 352.40778382609597, 352.50276589091357, 351.30822797561854, 351.0725510997352, 349.5781812995779, 350.45117095510477, 352.26926689824273, 351.1055516835342, 352.44009733068964, 349.155891246562, 348.5441759228037, 351.38737281158114, 354.65297329043653, 352.57644599974253, 349.0123143264732, 349.91683317778126, 352.17324181914995, 351.33109772635095, 352.10783987300044, 349.54033038350804, 353.4750158781515, 356.272712824766, 351.039373439168, 350.0982233912457, 350.3788621667206, 353.6268642944523, 348.35743321104866, 351.94978647748593, 349.0531152462335, 354.18076868840694, 357.9219680653983, 348.2580269791807, 351.46845865884495, 352.0346362475907, 350.0666476402655, 355.6644479810231, 351.82819689364663, 353.33978976215514, 351.06225789662915, 354.14285928918866, 349.366158622685, 347.82190300737693, 353.4293978558269, 351.35016125401165]\n"
     ]
    }
   ],
   "source": [
    "b = gt.shape[0]\n",
    "mssim = []\n",
    "mpsnr = []\n",
    "for i in range(b):\n",
    "    mssim.append( ssim( gt[i,:,:], pred[i,:,:] ) )\n",
    "    mpsnr.append( psnr( gt[i,:,:], pred[i,:,:] ) )\n",
    "    \n",
    "print(mpsnr)"
   ]
  },
  {
   "cell_type": "code",
   "execution_count": 9,
   "metadata": {},
   "outputs": [],
   "source": [
    "write_csv('data/ssim.txt', mssim)\n",
    "write_csv('data/psnr.txt', mpsnr)"
   ]
  },
  {
   "cell_type": "code",
   "execution_count": 28,
   "metadata": {},
   "outputs": [
    {
     "data": {
      "text/plain": [
       "0.7433402662472663"
      ]
     },
     "execution_count": 28,
     "metadata": {},
     "output_type": "execute_result"
    }
   ],
   "source": [
    "# Toy example\n",
    "dims = (32, 32)\n",
    "\n",
    "r = np.zeros(dims)\n",
    "p = np.zeros(dims)\n",
    "\n",
    "for i in range(dims[0]):\n",
    "    for j in range(dims[1]):\n",
    "        r[i,j] = i\n",
    "        p[i,j] = i+j\n",
    "\n",
    "\n",
    "ssim(r,p)"
   ]
  },
  {
   "cell_type": "code",
   "execution_count": 30,
   "metadata": {},
   "outputs": [
    {
     "data": {
      "text/plain": [
       "0.7433402662472663"
      ]
     },
     "execution_count": 30,
     "metadata": {},
     "output_type": "execute_result"
    }
   ],
   "source": [
    "# Toy example\n",
    "dims = (32, 32)\n",
    "\n",
    "r = np.zeros(dims)\n",
    "p = np.zeros(dims)\n",
    "\n",
    "for i in range(dims[0]):\n",
    "    for j in range(dims[1]):\n",
    "        r[i,j] = i\n",
    "        p[i,j] = i+j\n",
    "\n",
    "\n",
    "ssim(r,p)"
   ]
  },
  {
   "cell_type": "code",
   "execution_count": null,
   "metadata": {},
   "outputs": [],
   "source": []
  }
 ],
 "metadata": {
  "kernelspec": {
   "display_name": "Python 3",
   "language": "python",
   "name": "python3"
  },
  "language_info": {
   "codemirror_mode": {
    "name": "ipython",
    "version": 3
   },
   "file_extension": ".py",
   "mimetype": "text/x-python",
   "name": "python",
   "nbconvert_exporter": "python",
   "pygments_lexer": "ipython3",
   "version": "3.8.5"
  }
 },
 "nbformat": 4,
 "nbformat_minor": 4
}
