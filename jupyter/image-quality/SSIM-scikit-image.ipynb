{
 "cells": [
  {
   "cell_type": "code",
   "execution_count": 6,
   "metadata": {},
   "outputs": [],
   "source": [
    "import matplotlib.pyplot as plt\n",
    "import numpy as np\n",
    "from skimage.metrics import structural_similarity, peak_signal_noise_ratio\n",
    "\n",
    "def write_csv(name, m):\n",
    "    sourceFile = open(name, 'w')\n",
    "    strm = str(m)\n",
    "    print(strm[1:-1], file = sourceFile)\n",
    "    sourceFile.close()\n",
    "    \n",
    "def show(ims):\n",
    "    plt.figure(figsize=(5*len(ims),5))\n",
    "    \n",
    "    for i in range(len(ims)):\n",
    "        plt.subplot(1,len(ims),i+1)\n",
    "        plt.imshow(ims[i])\n",
    "        \n",
    "def ssim(im1, im2, data_range=255):\n",
    "    return structural_similarity(im1, im2, gaussian_weights=True, sigma=1.5, use_sample_covariance=False, data_range=data_range)\n",
    "  \n",
    "def psnr(im1, im2, data_range=255):\n",
    "    return peak_signal_noise_ratio(im1, im2, data_range=255)"
   ]
  },
  {
   "cell_type": "code",
   "execution_count": 3,
   "metadata": {},
   "outputs": [
    {
     "name": "stdout",
     "output_type": "stream",
     "text": [
      "(100, 64, 64)\n"
     ]
    }
   ],
   "source": [
    "gt = np.load('data/gt.npy').astype(int)\n",
    "pred = np.load('data/pred.npy').astype(int)\n",
    "print(gt.shape)"
   ]
  },
  {
   "cell_type": "code",
   "execution_count": 5,
   "metadata": {},
   "outputs": [
    {
     "name": "stdout",
     "output_type": "stream",
     "text": [
      "0.39508186247017696\n",
      "22.14490474046409\n"
     ]
    },
    {
     "data": {
      "image/png": "[encoded data removed]",
      "text/plain": [
       "<Figure size 720x360 with 2 Axes>"
      ]
     },
     "metadata": {
      "needs_background": "light"
     },
     "output_type": "display_data"
    }
   ],
   "source": [
    "n = 18\n",
    "print(ssim(gt[n,:,:], pred[n,:,:]))\n",
    "print(peak_signal_noise_ratio(gt[n,:,:], pred[n,:,:], data_range=255))\n",
    "show([gt[n,:,:], pred[n,:,:]])"
   ]
  },
  {
   "cell_type": "code",
   "execution_count": 8,
   "metadata": {},
   "outputs": [
    {
     "name": "stdout",
     "output_type": "stream",
     "text": [
      "[24.247642045814374, 20.365332830422386, 19.105647676519155, 26.875252386002373, 21.74880281331543, 21.305327375395922, 19.680677582775992, 23.521465651540034, 24.261548764996267, 19.200770357377852, 19.119128183552384, 17.03761155586106, 18.6796980095022, 21.884815530146152, 19.849326625814683, 20.01197685594033, 22.198061952165308, 21.264645997422257, 22.14490474046409, 19.629985841764817, 18.94859777130382, 23.432712842057043, 22.775223306394867, 20.433695684372495, 21.279382634404627, 16.5887496487294, 20.990288626622405, 21.82270254690705, 18.748239555213438, 23.864063140612032, 23.780388718191713, 20.380138181990443, 19.194715077914278, 18.348585938362397, 21.685667642155998, 21.789653637568836, 21.640982034021093, 21.653009185224434, 24.92852404651176, 17.080957321619103, 19.135243435872987, 18.809469882678748, 18.4230141040073, 21.064636198111508, 22.494495281926014, 21.05751207570869, 21.4995872579159, 18.82176080439036, 22.281547873729195, 19.598703940982688, 23.00941626834215, 20.84770974535363, 18.082272784490883, 21.87336721975899, 21.090979303040456, 19.856118548147276, 21.240792898158745, 21.33577496297633, 20.14123704768138, 19.905560171798, 18.41119037164073, 19.284180027167583, 21.10227597030558, 19.938560755596985, 21.273106402752436, 17.98890031862482, 17.37718499486649, 20.220381883643924, 23.485982362499307, 21.409455071805393, 17.84532339853601, 18.749842249844043, 21.006250891212765, 20.164106798413755, 20.940848945063244, 18.373339455570775, 22.30802495021432, 25.105721896828822, 19.87238251123078, 18.93123246330849, 19.2118712387834, 22.459873366515048, 17.19044228311147, 20.78279554954873, 17.886124318296297, 23.013777760469715, 26.754977137461037, 17.091036051243485, 20.301467730907703, 20.867645319653477, 18.899656712328298, 24.49745705308587, 20.66120596570942, 22.17279883421792, 19.895266968691953, 22.97586836125147, 18.199167694747857, 16.654912079439754, 22.262406927889682, 20.183170326074485]\n"
     ]
    }
   ],
   "source": [
    "b = gt.shape[0]\n",
    "mssim = []\n",
    "mpsnr = []\n",
    "for i in range(b):\n",
    "    mssim.append( ssim( gt[i,:,:], pred[i,:,:] ) )\n",
    "    mpsnr.append( psnr( gt[i,:,:], pred[i,:,:] ) )\n",
    "    \n",
    "print(mpsnr)"
   ]
  },
  {
   "cell_type": "code",
   "execution_count": 9,
   "metadata": {},
   "outputs": [],
   "source": [
    "write_csv('data/ssim.txt', mssim)\n",
    "write_csv('data/psnr.txt', mpsnr)"
   ]
  },
  {
   "cell_type": "code",
   "execution_count": 28,
   "metadata": {},
   "outputs": [
    {
     "data": {
      "text/plain": [
       "0.7433402662472663"
      ]
     },
     "execution_count": 28,
     "metadata": {},
     "output_type": "execute_result"
    }
   ],
   "source": [
    "# Toy example\n",
    "dims = (32, 32)\n",
    "\n",
    "r = np.zeros(dims)\n",
    "p = np.zeros(dims)\n",
    "\n",
    "for i in range(dims[0]):\n",
    "    for j in range(dims[1]):\n",
    "        r[i,j] = i\n",
    "        p[i,j] = i+j\n",
    "\n",
    "\n",
    "ssim(r,p)"
   ]
  },
  {
   "cell_type": "code",
   "execution_count": 30,
   "metadata": {},
   "outputs": [
    {
     "data": {
      "text/plain": [
       "0.7433402662472663"
      ]
     },
     "execution_count": 30,
     "metadata": {},
     "output_type": "execute_result"
    }
   ],
   "source": [
    "# Toy example\n",
    "dims = (32, 32)\n",
    "\n",
    "r = np.zeros(dims)\n",
    "p = np.zeros(dims)\n",
    "\n",
    "for i in range(dims[0]):\n",
    "    for j in range(dims[1]):\n",
    "        r[i,j] = i\n",
    "        p[i,j] = i+j\n",
    "\n",
    "\n",
    "ssim(r,p)"
   ]
  },
  {
   "cell_type": "code",
   "execution_count": null,
   "metadata": {},
   "outputs": [],
   "source": []
  }
 ],
 "metadata": {
  "kernelspec": {
   "display_name": "Python 3",
   "language": "python",
   "name": "python3"
  },
  "language_info": {
   "codemirror_mode": {
    "name": "ipython",
    "version": 3
   },
   "file_extension": ".py",
   "mimetype": "text/x-python",
   "name": "python",
   "nbconvert_exporter": "python",
   "pygments_lexer": "ipython3",
   "version": "3.8.5"
  }
 },
 "nbformat": 4,
 "nbformat_minor": 4
}
